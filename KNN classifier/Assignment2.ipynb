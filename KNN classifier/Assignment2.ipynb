{
 "cells": [
  {
   "cell_type": "code",
   "execution_count": null,
   "metadata": {},
   "outputs": [],
   "source": [
    "# Imports the KNeighbors Classifier class"
   ]
  },
  {
   "cell_type": "code",
   "execution_count": 1,
   "metadata": {},
   "outputs": [],
   "source": [
    "from sklearn.neighbors import KNeighborsClassifier"
   ]
  },
  {
   "cell_type": "code",
   "execution_count": 2,
   "metadata": {
    "scrolled": true
   },
   "outputs": [
    {
     "data": {
      "text/html": [
       "<div>\n",
       "<style scoped>\n",
       "    .dataframe tbody tr th:only-of-type {\n",
       "        vertical-align: middle;\n",
       "    }\n",
       "\n",
       "    .dataframe tbody tr th {\n",
       "        vertical-align: top;\n",
       "    }\n",
       "\n",
       "    .dataframe thead th {\n",
       "        text-align: right;\n",
       "    }\n",
       "</style>\n",
       "<table border=\"1\" class=\"dataframe\">\n",
       "  <thead>\n",
       "    <tr style=\"text-align: right;\">\n",
       "      <th></th>\n",
       "      <th>sepal_length</th>\n",
       "      <th>sepal_width</th>\n",
       "      <th>petal_length</th>\n",
       "      <th>petal_width</th>\n",
       "      <th>species</th>\n",
       "    </tr>\n",
       "  </thead>\n",
       "  <tbody>\n",
       "    <tr>\n",
       "      <th>0</th>\n",
       "      <td>5.1</td>\n",
       "      <td>3.5</td>\n",
       "      <td>1.4</td>\n",
       "      <td>0.2</td>\n",
       "      <td>setosa</td>\n",
       "    </tr>\n",
       "    <tr>\n",
       "      <th>1</th>\n",
       "      <td>4.9</td>\n",
       "      <td>3.0</td>\n",
       "      <td>1.4</td>\n",
       "      <td>0.2</td>\n",
       "      <td>setosa</td>\n",
       "    </tr>\n",
       "    <tr>\n",
       "      <th>2</th>\n",
       "      <td>4.7</td>\n",
       "      <td>3.2</td>\n",
       "      <td>1.3</td>\n",
       "      <td>0.2</td>\n",
       "      <td>setosa</td>\n",
       "    </tr>\n",
       "    <tr>\n",
       "      <th>3</th>\n",
       "      <td>4.6</td>\n",
       "      <td>3.1</td>\n",
       "      <td>1.5</td>\n",
       "      <td>0.2</td>\n",
       "      <td>setosa</td>\n",
       "    </tr>\n",
       "    <tr>\n",
       "      <th>4</th>\n",
       "      <td>5.0</td>\n",
       "      <td>3.6</td>\n",
       "      <td>1.4</td>\n",
       "      <td>0.2</td>\n",
       "      <td>setosa</td>\n",
       "    </tr>\n",
       "    <tr>\n",
       "      <th>...</th>\n",
       "      <td>...</td>\n",
       "      <td>...</td>\n",
       "      <td>...</td>\n",
       "      <td>...</td>\n",
       "      <td>...</td>\n",
       "    </tr>\n",
       "    <tr>\n",
       "      <th>145</th>\n",
       "      <td>6.7</td>\n",
       "      <td>3.0</td>\n",
       "      <td>5.2</td>\n",
       "      <td>2.3</td>\n",
       "      <td>virginica</td>\n",
       "    </tr>\n",
       "    <tr>\n",
       "      <th>146</th>\n",
       "      <td>6.3</td>\n",
       "      <td>2.5</td>\n",
       "      <td>5.0</td>\n",
       "      <td>1.9</td>\n",
       "      <td>virginica</td>\n",
       "    </tr>\n",
       "    <tr>\n",
       "      <th>147</th>\n",
       "      <td>6.5</td>\n",
       "      <td>3.0</td>\n",
       "      <td>5.2</td>\n",
       "      <td>2.0</td>\n",
       "      <td>virginica</td>\n",
       "    </tr>\n",
       "    <tr>\n",
       "      <th>148</th>\n",
       "      <td>6.2</td>\n",
       "      <td>3.4</td>\n",
       "      <td>5.4</td>\n",
       "      <td>2.3</td>\n",
       "      <td>virginica</td>\n",
       "    </tr>\n",
       "    <tr>\n",
       "      <th>149</th>\n",
       "      <td>5.9</td>\n",
       "      <td>3.0</td>\n",
       "      <td>5.1</td>\n",
       "      <td>1.8</td>\n",
       "      <td>virginica</td>\n",
       "    </tr>\n",
       "  </tbody>\n",
       "</table>\n",
       "<p>150 rows × 5 columns</p>\n",
       "</div>"
      ],
      "text/plain": [
       "     sepal_length  sepal_width  petal_length  petal_width    species\n",
       "0             5.1          3.5           1.4          0.2     setosa\n",
       "1             4.9          3.0           1.4          0.2     setosa\n",
       "2             4.7          3.2           1.3          0.2     setosa\n",
       "3             4.6          3.1           1.5          0.2     setosa\n",
       "4             5.0          3.6           1.4          0.2     setosa\n",
       "..            ...          ...           ...          ...        ...\n",
       "145           6.7          3.0           5.2          2.3  virginica\n",
       "146           6.3          2.5           5.0          1.9  virginica\n",
       "147           6.5          3.0           5.2          2.0  virginica\n",
       "148           6.2          3.4           5.4          2.3  virginica\n",
       "149           5.9          3.0           5.1          1.8  virginica\n",
       "\n",
       "[150 rows x 5 columns]"
      ]
     },
     "execution_count": 2,
     "metadata": {},
     "output_type": "execute_result"
    }
   ],
   "source": [
    "#importing panda and numpy\n",
    "import pandas as pd\n",
    "\n",
    "# This is Question 2 a)\n",
    "#creating an empty data frame\n",
    "df = pd.DataFrame()\n",
    "\n",
    "#getting the data directly from web\n",
    "df = pd.read_csv(\"https://raw.githubusercontent.com/mpourhoma/CS4661/master/iris.csv\")\n",
    "\n",
    "# printing the data\n",
    "df"
   ]
  },
  {
   "cell_type": "code",
   "execution_count": 3,
   "metadata": {},
   "outputs": [],
   "source": [
    "# Feature Matrix creation:\n",
    "\n",
    "# Python list of feature names that will be picked from dataset:\n",
    "feature_cols = ['sepal_length','sepal_width','petal_length','petal_width']\n",
    "\n",
    "# Select features from the original DataFrame from the list above\n",
    "X = df[feature_cols]  \n",
    "\n",
    "\n",
    "y=df['species']\n"
   ]
  },
  {
   "cell_type": "code",
   "execution_count": 4,
   "metadata": {},
   "outputs": [],
   "source": [
    "# B) Split the dataset into testing and training sets with the following parameters:\n",
    "#test_size=0.4, random_state=6\n",
    "\n",
    "from sklearn.model_selection import train_test_split\n",
    "\n",
    "X_train, X_test, y_train,y_test =train_test_split(X,y,test_size=0.4,random_state=6)"
   ]
  },
  {
   "cell_type": "code",
   "execution_count": 5,
   "metadata": {},
   "outputs": [],
   "source": [
    "# C) Instantiate a KNN object with K=3, train it on the training set and test it on the testing set. \n",
    "\n",
    "# Then, calculate the accuracy of your prediction as you learned in Lab3.\n",
    "\n",
    "k = 3\n",
    "knn = KNeighborsClassifier(n_neighbors=k) "
   ]
  },
  {
   "cell_type": "code",
   "execution_count": 6,
   "metadata": {},
   "outputs": [
    {
     "data": {
      "text/plain": [
       "KNeighborsClassifier(n_neighbors=3)"
      ]
     },
     "execution_count": 6,
     "metadata": {},
     "output_type": "execute_result"
    }
   ],
   "source": [
    "# We can use the function \"fit\" of the \"knn\" object with training dataset and labels to train the model.\n",
    "\n",
    "knn.fit(X, y)"
   ]
  },
  {
   "cell_type": "code",
   "execution_count": 7,
   "metadata": {
    "scrolled": true
   },
   "outputs": [
    {
     "name": "stdout",
     "output_type": "stream",
     "text": [
      "['setosa' 'virginica' 'setosa' 'setosa' 'virginica' 'versicolor'\n",
      " 'virginica' 'setosa' 'virginica' 'versicolor' 'virginica' 'versicolor'\n",
      " 'virginica' 'virginica' 'versicolor' 'versicolor' 'virginica'\n",
      " 'versicolor' 'versicolor' 'setosa' 'setosa' 'virginica' 'setosa' 'setosa'\n",
      " 'versicolor' 'virginica' 'versicolor' 'virginica' 'setosa' 'versicolor'\n",
      " 'setosa' 'versicolor' 'setosa' 'setosa' 'versicolor' 'virginica'\n",
      " 'versicolor' 'virginica' 'versicolor' 'setosa' 'setosa' 'virginica'\n",
      " 'versicolor' 'versicolor' 'setosa' 'setosa' 'versicolor' 'setosa'\n",
      " 'setosa' 'versicolor' 'virginica' 'virginica' 'virginica' 'setosa'\n",
      " 'virginica' 'setosa' 'setosa' 'setosa' 'versicolor' 'virginica']\n"
     ]
    }
   ],
   "source": [
    "# TESTING SET:\n",
    "\n",
    "y_predict = knn.predict(X_test)\n",
    "\n",
    "print(y_predict)"
   ]
  },
  {
   "cell_type": "code",
   "execution_count": 8,
   "metadata": {},
   "outputs": [
    {
     "name": "stdout",
     "output_type": "stream",
     "text": [
      "0.95\n"
     ]
    }
   ],
   "source": [
    "# Comparing \"predicted labels\" for Testing Set with the \"actual labels\" to calculate accuracy \n",
    "# Function \"accuracy_score\" from \"sklearn.metrics\" will perform comparisions and return correct predictions\n",
    "\n",
    "from sklearn.metrics import accuracy_score\n",
    "\n",
    "accuracy = accuracy_score(y_test, y_predict)\n",
    "\n",
    "print(accuracy)"
   ]
  },
  {
   "cell_type": "code",
   "execution_count": 9,
   "metadata": {},
   "outputs": [
    {
     "name": "stdout",
     "output_type": "stream",
     "text": [
      "{1: 0.95, 5: 0.9833333333333333, 7: 0.9666666666666667, 11: 0.9666666666666667, 15: 0.9333333333333333, 27: 0.9166666666666666, 59: 0.8166666666666667}\n"
     ]
    }
   ],
   "source": [
    "# D) Repeat part (c) for K=1, K=5, K=7, K=11, K=15, K=27, K=59 \n",
    "# (you can simply use a “for loop,” and save the final accuracy results in a list).\n",
    "knnList =[1,5,7,11,15,27,59]\n",
    "knn_result = {}\n",
    "\n",
    "# for loop\n",
    "for k in knnList:\n",
    "    knn = KNeighborsClassifier(n_neighbors=k) \n",
    "    knn.fit(X_train, y_train)\n",
    "    y_predict1 = knn.predict(X_test)\n",
    "    accuracy = accuracy_score(y_test,y_predict1)\n",
    "    knn_result[k] = accuracy\n",
    "    \n",
    "print(knn_result)\n",
    "\n",
    "# Accuracy value may not increase if the k value increases"
   ]
  },
  {
   "cell_type": "code",
   "execution_count": 10,
   "metadata": {},
   "outputs": [
    {
     "name": "stdout",
     "output_type": "stream",
     "text": [
      "{'sepal_length': 0.7166666666666667, 'sepal_width': 0.5666666666666667, 'petal_length': 0.9333333333333333, 'petal_width': 0.95}\n"
     ]
    }
   ],
   "source": [
    "# E) we have to repeat part (c) with K=3 \n",
    "# four times (each time using only one of the 4 features), and compute the accuracy each time\n",
    "k=3\n",
    "knn = KNeighborsClassifier(n_neighbors=k) \n",
    "knn_result_new ={}\n",
    "\n",
    "for i in feature_cols:\n",
    "    X_feature = df[i]\n",
    "    X_itrain,X_itest, y_itrain,y_itest = train_test_split(X_feature.values.reshape(len(X_feature),1),y,test_size=0.4, random_state=6)\n",
    "    knn.fit(X_itrain, y_itrain)\n",
    "    y_ipredict=knn.predict(X_itest)\n",
    "    accuracy = accuracy_score(y_itest,y_ipredict)\n",
    "    knn_result_new[i] = accuracy\n",
    "    \n",
    "print(knn_result_new)"
   ]
  },
  {
   "cell_type": "code",
   "execution_count": null,
   "metadata": {},
   "outputs": [],
   "source": [
    "# Petal width is the first best feature with 0.95 bit followed by petal length with 0.933333 bit"
   ]
  },
  {
   "cell_type": "code",
   "execution_count": 11,
   "metadata": {},
   "outputs": [
    {
     "name": "stdout",
     "output_type": "stream",
     "text": [
      "{'sepal_length,sepal_width': 0.8166666666666667, 'sepal_length,petal_length': 0.9833333333333333, 'sepal_length,petal_width': 0.95, 'sepal_width,petal_length': 0.95, 'sepal_width,petal_width': 0.95, 'petal_length,petal_width': 0.9666666666666667}\n"
     ]
    }
   ],
   "source": [
    "# F) Now, we want to repeat part (e), this time using two features\n",
    "k=3\n",
    "knn = KNeighborsClassifier(n_neighbors=k) \n",
    "knn_result2 ={}\n",
    "features = [['sepal_length','sepal_width'],['sepal_length','petal_length'],['sepal_length','petal_width'],['sepal_width','petal_length'],['sepal_width','petal_width'],['petal_length','petal_width']]\n",
    "\n",
    "for j in features: \n",
    "    X_features =df[j]\n",
    "    X_jtrain,X_jtest,y_jtrain, y_jtest = train_test_split(X_features,y, test_size=0.4,random_state=6)\n",
    "    knn.fit(X_jtrain,y_jtrain)\n",
    "    y_jpredict = knn.predict(X_jtest)\n",
    "    accuracy = accuracy_score(y_jtest,y_jpredict)\n",
    "    knn_result2[','.join(j)] = accuracy\n",
    "    \n",
    "print(knn_result2)"
   ]
  },
  {
   "cell_type": "code",
   "execution_count": null,
   "metadata": {},
   "outputs": [],
   "source": [
    " # Best feature in F) is sepal_length, petal_length with 0.98333"
   ]
  },
  {
   "cell_type": "code",
   "execution_count": 12,
   "metadata": {},
   "outputs": [],
   "source": [
    "# G) Does the “best feature pair” from part (f) contain of both \n",
    "# “first best feature” and “second best feature” from part (e)? \n",
    "\n",
    "    # NO, because for E) Petal width was the first best feature with 0.95 bit followed by petal length with 0.933333 bit\n",
    "        # however, in F) the best feature pair was sepal_length, petal_length"
   ]
  },
  {
   "cell_type": "code",
   "execution_count": 14,
   "metadata": {},
   "outputs": [],
   "source": [
    "# H) Optional Question: Justify your answer for part (g)! If yes, why?  If no, why not?\n",
    "# In KNN we measure the distance between the feature and the testing data. For the two feature we have to consider the \n",
    "# distance from both feature to its testing data and it is not necessary that the two feature should give us the best accuracy."
   ]
  },
  {
   "cell_type": "code",
   "execution_count": null,
   "metadata": {},
   "outputs": [],
   "source": []
  }
 ],
 "metadata": {
  "kernelspec": {
   "display_name": "Python 3",
   "language": "python",
   "name": "python3"
  },
  "language_info": {
   "codemirror_mode": {
    "name": "ipython",
    "version": 3
   },
   "file_extension": ".py",
   "mimetype": "text/x-python",
   "name": "python",
   "nbconvert_exporter": "python",
   "pygments_lexer": "ipython3",
   "version": "3.8.3"
  }
 },
 "nbformat": 4,
 "nbformat_minor": 2
}
